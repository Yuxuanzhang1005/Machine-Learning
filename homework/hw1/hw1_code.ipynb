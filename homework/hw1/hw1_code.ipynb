{
 "cells": [
  {
   "cell_type": "code",
   "execution_count": 5,
   "metadata": {},
   "outputs": [
    {
     "name": "stdout",
     "output_type": "stream",
     "text": [
      "torch.Size([2, 1])\n"
     ]
    }
   ],
   "source": [
    "import torch\n",
    "x = torch.DoubleTensor([[1],[2]])\n",
    "y = torch.DoubleTensor([[1],[1]])\n",
    "print(x.size())"
   ]
  },
  {
   "cell_type": "code",
   "execution_count": 6,
   "metadata": {},
   "outputs": [
    {
     "name": "stdout",
     "output_type": "stream",
     "text": [
      "tensor([[1., 1.],\n",
      "        [2., 1.]], dtype=torch.float64)\n",
      "tensor(2., dtype=torch.float64)\n",
      "tensor([[2.],\n",
      "        [3.]], dtype=torch.float64)\n"
     ]
    }
   ],
   "source": [
    "X = torch.cat((x, torch.ones_like(x)),1)\n",
    "print(X)\n",
    "print(X[1,0])\n",
    "# torch.matmul: matrix multiplication\n",
    "print(torch.matmul(X,y))"
   ]
  },
  {
   "cell_type": "code",
   "execution_count": 7,
   "metadata": {},
   "outputs": [
    {
     "name": "stdout",
     "output_type": "stream",
     "text": [
      "Solution 1:\n",
      "tensor([[9.9301e-17],\n",
      "        [1.0000e+00]], dtype=torch.float64)\n"
     ]
    }
   ],
   "source": [
    "# Solution 1\n",
    "##############################\n",
    "## Fill in the arguments\n",
    "##############################\n",
    "res1 = torch.lstsq(y, X)\n",
    "print(\"Solution 1:\")\n",
    "print(res1[0])\n"
   ]
  },
  {
   "cell_type": "code",
   "execution_count": 11,
   "metadata": {},
   "outputs": [
    {
     "name": "stdout",
     "output_type": "stream",
     "text": [
      "tensor([[5., 3.],\n",
      "        [3., 2.]], dtype=torch.float64)\n",
      "tensor([[3.],\n",
      "        [2.]], dtype=torch.float64)\n"
     ]
    }
   ],
   "source": [
    "print(torch.matmul(torch.transpose(X, 0, 1),X))\n",
    "print(torch.matmul(torch.transpose(X, 0, 1),y))\n"
   ]
  },
  {
   "cell_type": "code",
   "execution_count": 12,
   "metadata": {},
   "outputs": [
    {
     "name": "stdout",
     "output_type": "stream",
     "text": [
      "Solution 2:\n",
      "tensor([[0.],\n",
      "        [1.]], dtype=torch.float64)\n"
     ]
    }
   ],
   "source": [
    "##############################\n",
    "## How to compute l and r?\n",
    "## Dimensions: l (2x2); r (2x1)\n",
    "##############################\n",
    "l = torch.matmul(torch.transpose(X, 0, 1),X)\n",
    "r = torch.matmul(torch.transpose(X, 0, 1),y)\n",
    "res2 = torch.solve(r,l)\n",
    "print(\"Solution 2:\")\n",
    "print(res2[0])"
   ]
  },
  {
   "cell_type": "code",
   "execution_count": 14,
   "metadata": {},
   "outputs": [
    {
     "name": "stdout",
     "output_type": "stream",
     "text": [
      "Solution 3:\n",
      "tensor([[0.],\n",
      "        [1.]], dtype=torch.float64)\n"
     ]
    }
   ],
   "source": [
    "# Solution 3\n",
    "##############################\n",
    "## What is l and r?\n",
    "## Dimensions: l (2x2); r (2x1)\n",
    "##############################\n",
    "l = torch.matmul(torch.transpose(X, 0, 1),X)\n",
    "r = torch.matmul(torch.transpose(X, 0, 1),y)\n",
    "res3 = torch.matmul(torch.inverse(l),r)\n",
    "print(\"Solution 3:\")\n",
    "print(res3)"
   ]
  },
  {
   "cell_type": "code",
   "execution_count": 10,
   "metadata": {},
   "outputs": [
    {
     "name": "stdout",
     "output_type": "stream",
     "text": [
      "tensor([[0., 0., 1.],\n",
      "        [1., 1., 1.],\n",
      "        [4., 2., 1.]])\n",
      "tensor([[0.],\n",
      "        [1.],\n",
      "        [1.]])\n",
      "tensor([[-5.0000e-01],\n",
      "        [ 1.5000e+00],\n",
      "        [-2.9101e-07]])\n"
     ]
    }
   ],
   "source": [
    "##############################\n",
    "## Specify the matrix X\n",
    "## Dimensions: X (3x3)\n",
    "##############################\n",
    "X = torch.Tensor([[0,0,1],[1,1,1],[4,2,1]])\n",
    "y = torch.Tensor([[0],[1],[1]])\n",
    "print(X)\n",
    "print(y)\n",
    "\n",
    "# Solution\n",
    "##############################\n",
    "## Use one of the ways to compute the result\n",
    "##############################\n",
    "l2 = torch.matmul(torch.transpose(X, 0, 1),X)\n",
    "r2 = torch.matmul(torch.transpose(X, 0, 1),y)\n",
    "res2 = torch.solve(r2,l2)\n",
    "\n",
    "print(res2[0])"
   ]
  },
  {
   "cell_type": "code",
   "execution_count": 11,
   "metadata": {},
   "outputs": [
    {
     "name": "stdout",
     "output_type": "stream",
     "text": [
      "tensor([[-5.0000e-01],\n",
      "        [ 1.5000e+00],\n",
      "        [-1.6283e-07]])\n"
     ]
    }
   ],
   "source": [
    "res2 = torch.lstsq(r2,l2)\n",
    "print(res2[0])"
   ]
  },
  {
   "cell_type": "code",
   "execution_count": 13,
   "metadata": {},
   "outputs": [
    {
     "data": {
      "text/plain": [
       "1.125"
      ]
     },
     "execution_count": 13,
     "metadata": {},
     "output_type": "execute_result"
    }
   ],
   "source": [
    "-0.5*(1.5**2-1.5*3)"
   ]
  },
  {
   "cell_type": "code",
   "execution_count": 1,
   "metadata": {},
   "outputs": [
    {
     "data": {
      "text/plain": [
       "-0.5"
      ]
     },
     "execution_count": 1,
     "metadata": {},
     "output_type": "execute_result"
    }
   ],
   "source": [
    "-5e-01"
   ]
  },
  {
   "cell_type": "code",
   "execution_count": null,
   "metadata": {},
   "outputs": [],
   "source": []
  }
 ],
 "metadata": {
  "kernelspec": {
   "display_name": "Python 3",
   "language": "python",
   "name": "python3"
  },
  "language_info": {
   "codemirror_mode": {
    "name": "ipython",
    "version": 3
   },
   "file_extension": ".py",
   "mimetype": "text/x-python",
   "name": "python",
   "nbconvert_exporter": "python",
   "pygments_lexer": "ipython3",
   "version": "3.7.3"
  }
 },
 "nbformat": 4,
 "nbformat_minor": 2
}
